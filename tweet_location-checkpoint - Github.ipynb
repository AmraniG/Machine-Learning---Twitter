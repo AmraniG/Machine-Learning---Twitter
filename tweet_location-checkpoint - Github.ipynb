{
 "cells": [
  {
   "cell_type": "markdown",
   "metadata": {},
   "source": [
    "Classifying Tweets using a Naive Bayes Classifier to find patterns in real tweets. \n",
    "Input : `new_york.json`, `london.json`, and `paris.json`. These three files contain tweets from those locations.\n",
    "\n",
    "The goal is to create a classification algorithm that can classify any tweet (or sentence) and predict whether that sentence came from New York, London, or Paris."
   ]
  },
  {
   "cell_type": "markdown",
   "metadata": {},
   "source": [
    "# Investigating the Data"
   ]
  },
  {
   "cell_type": "code",
   "execution_count": 4,
   "metadata": {
    "scrolled": false
   },
   "outputs": [
    {
     "output_type": "stream",
     "name": "stdout",
     "text": [
      "4723\nIndex(['created_at', 'id', 'id_str', 'text', 'display_text_range', 'source',\n       'truncated', 'in_reply_to_status_id', 'in_reply_to_status_id_str',\n       'in_reply_to_user_id', 'in_reply_to_user_id_str',\n       'in_reply_to_screen_name', 'user', 'geo', 'coordinates', 'place',\n       'contributors', 'is_quote_status', 'quote_count', 'reply_count',\n       'retweet_count', 'favorite_count', 'entities', 'favorited', 'retweeted',\n       'filter_level', 'lang', 'timestamp_ms', 'extended_tweet',\n       'possibly_sensitive', 'quoted_status_id', 'quoted_status_id_str',\n       'quoted_status', 'quoted_status_permalink', 'extended_entities',\n       'withheld_in_countries'],\n      dtype='object')\nBe best #ThursdayThoughts\n"
     ]
    }
   ],
   "source": [
    "import pandas as pd\n",
    "\n",
    "new_york_tweets = pd.read_json(\"new_york.json\", lines=True)\n",
    "print(len(new_york_tweets))\n",
    "print(new_york_tweets.columns)\n",
    "print(new_york_tweets.loc[12][\"text\"])"
   ]
  },
  {
   "cell_type": "markdown",
   "metadata": {},
   "source": [
    "# Loading DataFrames"
   ]
  },
  {
   "cell_type": "code",
   "execution_count": 5,
   "metadata": {},
   "outputs": [],
   "source": [
    "london_tweets = pd.read_json('london.json', lines = True)\n",
    "paris_tweets = pd.read_json('paris.json', lines = True)"
   ]
  },
  {
   "cell_type": "markdown",
   "metadata": {},
   "source": [
    "# Classifying using language - Naive Bayes Classifier\n",
    "\n",
    "1) Transforming the text of the tweets and making a big list\n",
    "2) Making a label associated with those tweets. `0` represents a New York tweet, `1`  represents a London tweet, and `2` represents a Paris tweet. "
   ]
  },
  {
   "cell_type": "code",
   "execution_count": 6,
   "metadata": {},
   "outputs": [],
   "source": [
    "new_york_text = new_york_tweets[\"text\"].tolist()\n",
    "london_text = london_tweets[\"text\"].tolist()\n",
    "paris_text = paris_tweets[\"text\"].tolist()\n",
    "\n",
    "\n",
    "all_tweets = new_york_text + london_text + paris_text\n",
    "labels = [0] * len(new_york_text) + [2] * len(paris_text) + [1] * len(london_text)"
   ]
  },
  {
   "cell_type": "markdown",
   "metadata": {},
   "source": [
    "# Making a Training and Test Set\n",
    "\n",
    "Using scikit-learn's `train_test_split` function to break the data into a training set and a test set. "
   ]
  },
  {
   "cell_type": "code",
   "execution_count": 7,
   "metadata": {},
   "outputs": [],
   "source": [
    "from sklearn.model_selection import train_test_split\n",
    "train_data, validation_data, train_labels, validation_labels = train_test_split(all_tweets, labels)"
   ]
  },
  {
   "cell_type": "markdown",
   "metadata": {},
   "source": [
    "# Making the Count Vectors\n"
   ]
  },
  {
   "cell_type": "code",
   "execution_count": 8,
   "metadata": {},
   "outputs": [
    {
     "output_type": "stream",
     "name": "stdout",
     "text": [
      "My username is DiabloDame. I would love Soooome Extra Lives. https://t.co/WrZIj1qzhp\n  (0, 5876)\t1\n  (0, 7560)\t1\n  (0, 9353)\t1\n  (0, 12353)\t1\n  (0, 13173)\t1\n  (0, 15411)\t1\n  (0, 15677)\t1\n  (0, 17446)\t1\n  (0, 23848)\t1\n  (0, 26798)\t1\n  (0, 28205)\t1\n  (0, 28257)\t1\n"
     ]
    }
   ],
   "source": [
    "from sklearn.feature_extraction.text import CountVectorizer\n",
    "counter = CountVectorizer()\n",
    "counter.fit(train_data)\n",
    "train_counts = counter.transform(train_data)\n",
    "validation_counts = counter.transform(validation_data)\n",
    "\n",
    "print(train_data[3])\n",
    "print(train_counts[3])"
   ]
  },
  {
   "cell_type": "markdown",
   "metadata": {},
   "source": [
    "# Train and Test the Naive Bayes Classifier\n",
    "\n",
    "1) Making a `MultinomialNB` named `classifier`.\n",
    "2) Training the  `classifier`'s with `.fit()` method. \n",
    "3) Test the model with `classifier`'s `.predict()` method"
   ]
  },
  {
   "cell_type": "code",
   "execution_count": 10,
   "metadata": {},
   "outputs": [],
   "source": [
    "from sklearn.naive_bayes import MultinomialNB\n",
    "classifier = MultinomialNB()\n",
    "classifier.fit(train_counts, train_labels)\n",
    "\n",
    "prediction = classifier.predict(validation_counts)"
   ]
  },
  {
   "cell_type": "markdown",
   "metadata": {},
   "source": [
    "# Evaluating the Model\n",
    "\n"
   ]
  },
  {
   "cell_type": "code",
   "execution_count": 11,
   "metadata": {},
   "outputs": [
    {
     "output_type": "stream",
     "name": "stdout",
     "text": [
      "0.5896946564885496\n"
     ]
    }
   ],
   "source": [
    "from sklearn.metrics import accuracy_score\n",
    "\n",
    "print(accuracy_score(validation_labels, prediction))\n"
   ]
  },
  {
   "cell_type": "code",
   "execution_count": 12,
   "metadata": {},
   "outputs": [
    {
     "output_type": "stream",
     "name": "stdout",
     "text": [
      "[[1028  108   16]\n [ 513  745   56]\n [ 454  143   81]]\n"
     ]
    }
   ],
   "source": []
  },
  {
   "cell_type": "markdown",
   "metadata": {},
   "source": [
    "from sklearn.metrics import confusion_matrix\n",
    "print(confusion_matrix(validation_labels, prediction))"
   ]
  },
  {
   "cell_type": "code",
   "execution_count": 17,
   "metadata": {},
   "outputs": [
    {
     "output_type": "stream",
     "name": "stdout",
     "text": [
      "[0]\n[1]\n[[4.39453099e-08 9.99999470e-01 4.86386921e-07]]\n"
     ]
    }
   ],
   "source": [
    "# Test a Tweet\n"
   ]
  },
  {
   "cell_type": "code",
   "execution_count": null,
   "metadata": {},
   "outputs": [],
   "source": [
    "tweet = 'Where can I eat the best burger in the big apple'\n",
    "tweet_counts = counter.transform([tweet])\n",
    "prediction_jis = classifier.predict(tweet_counts)\n",
    "print(prediction_jis)\n",
    "\n",
    "\n",
    "tweet2 = 'Ou trouver le meilleur burger de paris'\n",
    "tweet2_counts = counter.transform([tweet2])\n",
    "prediction_jis2 = classifier.predict(tweet2_counts)\n",
    "print(prediction_jis2)\n",
    "\n",
    "prediction_proba = classifier.predict_proba(tweet2_counts)\n",
    "print(prediction_proba)"
   ]
  }
 ],
 "metadata": {
  "kernelspec": {
   "display_name": "Python 3",
   "language": "python",
   "name": "python3"
  },
  "language_info": {
   "codemirror_mode": {
    "name": "ipython",
    "version": 3
   },
   "file_extension": ".py",
   "mimetype": "text/x-python",
   "name": "python",
   "nbconvert_exporter": "python",
   "pygments_lexer": "ipython3",
   "version": "3.8.3-final"
  }
 },
 "nbformat": 4,
 "nbformat_minor": 2
}